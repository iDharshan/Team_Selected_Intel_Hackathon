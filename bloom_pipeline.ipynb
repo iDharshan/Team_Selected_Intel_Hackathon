{
 "cells": [
  {
   "cell_type": "code",
   "execution_count": 1,
   "metadata": {},
   "outputs": [
    {
     "data": {
      "application/vnd.jupyter.widget-view+json": {
       "model_id": "d703359dc89146bd96ebc5f511592de4",
       "version_major": 2,
       "version_minor": 0
      },
      "text/plain": [
       "config.json:   0%|          | 0.00/693 [00:00<?, ?B/s]"
      ]
     },
     "metadata": {},
     "output_type": "display_data"
    },
    {
     "name": "stderr",
     "output_type": "stream",
     "text": [
      "c:\\Users\\Dharshan\\.conda\\envs\\tf\\lib\\site-packages\\huggingface_hub\\file_download.py:149: UserWarning: `huggingface_hub` cache-system uses symlinks by default to efficiently store duplicated files but your machine does not support them in C:\\Users\\Dharshan\\.cache\\huggingface\\hub\\models--bigscience--bloom-1b1. Caching files will still work but in a degraded version that might require more space on your disk. This warning can be disabled by setting the `HF_HUB_DISABLE_SYMLINKS_WARNING` environment variable. For more details, see https://huggingface.co/docs/huggingface_hub/how-to-cache#limitations.\n",
      "To support symlinks on Windows, you either need to activate Developer Mode or to run Python as an administrator. In order to see activate developer mode, see this article: https://docs.microsoft.com/en-us/windows/apps/get-started/enable-your-device-for-development\n",
      "  warnings.warn(message)\n"
     ]
    },
    {
     "data": {
      "application/vnd.jupyter.widget-view+json": {
       "model_id": "6e438da544e3494c97f4036e4a47b7e3",
       "version_major": 2,
       "version_minor": 0
      },
      "text/plain": [
       "model.safetensors:   0%|          | 0.00/2.13G [00:00<?, ?B/s]"
      ]
     },
     "metadata": {},
     "output_type": "display_data"
    },
    {
     "data": {
      "application/vnd.jupyter.widget-view+json": {
       "model_id": "d24bc9e98e6a4ec5941a4fc9b0ebbe35",
       "version_major": 2,
       "version_minor": 0
      },
      "text/plain": [
       "tokenizer_config.json:   0%|          | 0.00/222 [00:00<?, ?B/s]"
      ]
     },
     "metadata": {},
     "output_type": "display_data"
    },
    {
     "data": {
      "application/vnd.jupyter.widget-view+json": {
       "model_id": "d2f92a983a534ace98197094da4bf65a",
       "version_major": 2,
       "version_minor": 0
      },
      "text/plain": [
       "tokenizer.json:   0%|          | 0.00/14.5M [00:00<?, ?B/s]"
      ]
     },
     "metadata": {},
     "output_type": "display_data"
    },
    {
     "data": {
      "application/vnd.jupyter.widget-view+json": {
       "model_id": "8f03168886764c7d865e02ae18e0fb26",
       "version_major": 2,
       "version_minor": 0
      },
      "text/plain": [
       "special_tokens_map.json:   0%|          | 0.00/85.0 [00:00<?, ?B/s]"
      ]
     },
     "metadata": {},
     "output_type": "display_data"
    }
   ],
   "source": [
    "# Use a pipeline as a high-level helper\n",
    "from transformers import pipeline\n",
    "\n",
    "pipe = pipeline(\"text-generation\", model=\"bigscience/bloom-1b1\")"
   ]
  },
  {
   "cell_type": "code",
   "execution_count": 4,
   "metadata": {},
   "outputs": [
    {
     "name": "stdout",
     "output_type": "stream",
     "text": [
      "a baby had a fight with his brother. The baby was crying and the mother was crying. The mother was crying because she was angry with her brother. The mother was angry because she was angry with her brother. The mother was angry because she was angry with her brother. The mother was angry because she was angry with her brother. The mother was angry because she was angry with her brother. The mother was angry because she was angry with her brother. The mother was angry because she was angry with\n"
     ]
    }
   ],
   "source": [
    "prompt = \"a baby had a fight with his brother\"\n",
    "generated_text = pipe(prompt, max_length=100, num_return_sequences=1)[0]['generated_text']\n",
    "\n",
    "# Print the generated text\n",
    "print(generated_text)"
   ]
  },
  {
   "cell_type": "code",
   "execution_count": 6,
   "metadata": {},
   "outputs": [
    {
     "name": "stdout",
     "output_type": "stream",
     "text": [
      "Collecting datasets\n",
      "  Downloading datasets-2.18.0-py3-none-any.whl.metadata (20 kB)\n",
      "Requirement already satisfied: filelock in c:\\users\\dharshan\\.conda\\envs\\tf\\lib\\site-packages (from datasets) (3.13.1)\n",
      "Requirement already satisfied: numpy>=1.17 in c:\\users\\dharshan\\.conda\\envs\\tf\\lib\\site-packages (from datasets) (1.26.1)\n",
      "Collecting pyarrow>=12.0.0 (from datasets)\n",
      "  Downloading pyarrow-15.0.1-cp39-cp39-win_amd64.whl.metadata (3.1 kB)\n",
      "Collecting pyarrow-hotfix (from datasets)\n",
      "  Downloading pyarrow_hotfix-0.6-py3-none-any.whl.metadata (3.6 kB)\n",
      "Requirement already satisfied: dill<0.3.9,>=0.3.0 in c:\\users\\dharshan\\.conda\\envs\\tf\\lib\\site-packages (from datasets) (0.3.7)\n",
      "Requirement already satisfied: pandas in c:\\users\\dharshan\\.conda\\envs\\tf\\lib\\site-packages (from datasets) (2.1.1)\n",
      "Requirement already satisfied: requests>=2.19.0 in c:\\users\\dharshan\\.conda\\envs\\tf\\lib\\site-packages (from datasets) (2.31.0)\n",
      "Requirement already satisfied: tqdm>=4.62.1 in c:\\users\\dharshan\\.conda\\envs\\tf\\lib\\site-packages (from datasets) (4.66.2)\n",
      "Collecting xxhash (from datasets)\n",
      "  Downloading xxhash-3.4.1-cp39-cp39-win_amd64.whl.metadata (12 kB)\n",
      "Collecting multiprocess (from datasets)\n",
      "  Downloading multiprocess-0.70.16-py39-none-any.whl.metadata (7.2 kB)\n",
      "Requirement already satisfied: fsspec<=2024.2.0,>=2023.1.0 in c:\\users\\dharshan\\.conda\\envs\\tf\\lib\\site-packages (from fsspec[http]<=2024.2.0,>=2023.1.0->datasets) (2024.2.0)\n",
      "Collecting aiohttp (from datasets)\n",
      "  Downloading aiohttp-3.9.3-cp39-cp39-win_amd64.whl.metadata (7.6 kB)\n",
      "Requirement already satisfied: huggingface-hub>=0.19.4 in c:\\users\\dharshan\\.conda\\envs\\tf\\lib\\site-packages (from datasets) (0.21.4)\n",
      "Requirement already satisfied: packaging in c:\\users\\dharshan\\.conda\\envs\\tf\\lib\\site-packages (from datasets) (23.2)\n",
      "Requirement already satisfied: pyyaml>=5.1 in c:\\users\\dharshan\\.conda\\envs\\tf\\lib\\site-packages (from datasets) (6.0.1)\n",
      "Collecting aiosignal>=1.1.2 (from aiohttp->datasets)\n",
      "  Downloading aiosignal-1.3.1-py3-none-any.whl.metadata (4.0 kB)\n",
      "Requirement already satisfied: attrs>=17.3.0 in c:\\users\\dharshan\\.conda\\envs\\tf\\lib\\site-packages (from aiohttp->datasets) (23.2.0)\n",
      "Collecting frozenlist>=1.1.1 (from aiohttp->datasets)\n",
      "  Downloading frozenlist-1.4.1-cp39-cp39-win_amd64.whl.metadata (12 kB)\n",
      "Collecting multidict<7.0,>=4.5 (from aiohttp->datasets)\n",
      "  Downloading multidict-6.0.5-cp39-cp39-win_amd64.whl.metadata (4.3 kB)\n",
      "Collecting yarl<2.0,>=1.0 (from aiohttp->datasets)\n",
      "  Downloading yarl-1.9.4-cp39-cp39-win_amd64.whl.metadata (32 kB)\n",
      "Collecting async-timeout<5.0,>=4.0 (from aiohttp->datasets)\n",
      "  Downloading async_timeout-4.0.3-py3-none-any.whl.metadata (4.2 kB)\n",
      "Requirement already satisfied: typing-extensions>=3.7.4.3 in c:\\users\\dharshan\\.conda\\envs\\tf\\lib\\site-packages (from huggingface-hub>=0.19.4->datasets) (4.8.0)\n",
      "Requirement already satisfied: charset-normalizer<4,>=2 in c:\\users\\dharshan\\.conda\\envs\\tf\\lib\\site-packages (from requests>=2.19.0->datasets) (3.3.0)\n",
      "Requirement already satisfied: idna<4,>=2.5 in c:\\users\\dharshan\\.conda\\envs\\tf\\lib\\site-packages (from requests>=2.19.0->datasets) (3.4)\n",
      "Requirement already satisfied: urllib3<3,>=1.21.1 in c:\\users\\dharshan\\.conda\\envs\\tf\\lib\\site-packages (from requests>=2.19.0->datasets) (2.1.0)\n",
      "Requirement already satisfied: certifi>=2017.4.17 in c:\\users\\dharshan\\.conda\\envs\\tf\\lib\\site-packages (from requests>=2.19.0->datasets) (2023.7.22)\n",
      "Requirement already satisfied: colorama in c:\\users\\dharshan\\.conda\\envs\\tf\\lib\\site-packages (from tqdm>=4.62.1->datasets) (0.4.6)\n",
      "Collecting dill<0.3.9,>=0.3.0 (from datasets)\n",
      "  Downloading dill-0.3.8-py3-none-any.whl.metadata (10 kB)\n",
      "Requirement already satisfied: python-dateutil>=2.8.2 in c:\\users\\dharshan\\.conda\\envs\\tf\\lib\\site-packages (from pandas->datasets) (2.8.2)\n",
      "Requirement already satisfied: pytz>=2020.1 in c:\\users\\dharshan\\.conda\\envs\\tf\\lib\\site-packages (from pandas->datasets) (2023.3.post1)\n",
      "Requirement already satisfied: tzdata>=2022.1 in c:\\users\\dharshan\\.conda\\envs\\tf\\lib\\site-packages (from pandas->datasets) (2023.3)\n",
      "Requirement already satisfied: six>=1.5 in c:\\users\\dharshan\\.conda\\envs\\tf\\lib\\site-packages (from python-dateutil>=2.8.2->pandas->datasets) (1.16.0)\n",
      "Downloading datasets-2.18.0-py3-none-any.whl (510 kB)\n",
      "   ---------------------------------------- 0.0/510.5 kB ? eta -:--:--\n",
      "   ---- ----------------------------------- 61.4/510.5 kB 1.1 MB/s eta 0:00:01\n",
      "   ------------ --------------------------- 153.6/510.5 kB 1.8 MB/s eta 0:00:01\n",
      "   -------------------- ------------------- 256.0/510.5 kB 2.0 MB/s eta 0:00:01\n",
      "   ---------------------------- ----------- 358.4/510.5 kB 2.2 MB/s eta 0:00:01\n",
      "   -------------------------------- ------- 419.8/510.5 kB 2.2 MB/s eta 0:00:01\n",
      "   -------------------------------- ------- 419.8/510.5 kB 2.2 MB/s eta 0:00:01\n",
      "   ---------------------------------------  501.8/510.5 kB 1.6 MB/s eta 0:00:01\n",
      "   ---------------------------------------- 510.5/510.5 kB 1.5 MB/s eta 0:00:00\n",
      "Downloading aiohttp-3.9.3-cp39-cp39-win_amd64.whl (366 kB)\n",
      "   ---------------------------------------- 0.0/366.0 kB ? eta -:--:--\n",
      "   ------------- -------------------------- 122.9/366.0 kB 3.6 MB/s eta 0:00:01\n",
      "   -------------------------- ------------- 245.8/366.0 kB 2.5 MB/s eta 0:00:01\n",
      "   --------------------------------- ------ 307.2/366.0 kB 2.1 MB/s eta 0:00:01\n",
      "   ---------------------------------------- 366.0/366.0 kB 2.3 MB/s eta 0:00:00\n",
      "Downloading pyarrow-15.0.1-cp39-cp39-win_amd64.whl (24.9 MB)\n",
      "   ---------------------------------------- 0.0/24.9 MB ? eta -:--:--\n",
      "   ---------------------------------------- 0.1/24.9 MB 8.3 MB/s eta 0:00:03\n",
      "   ---------------------------------------- 0.3/24.9 MB 3.8 MB/s eta 0:00:07\n",
      "   ---------------------------------------- 0.3/24.9 MB 3.8 MB/s eta 0:00:07\n",
      "    --------------------------------------- 0.5/24.9 MB 2.8 MB/s eta 0:00:09\n",
      "    --------------------------------------- 0.6/24.9 MB 2.8 MB/s eta 0:00:09\n",
      "   - -------------------------------------- 0.6/24.9 MB 2.5 MB/s eta 0:00:10\n",
      "   - -------------------------------------- 0.8/24.9 MB 2.6 MB/s eta 0:00:10\n",
      "   - -------------------------------------- 0.9/24.9 MB 2.5 MB/s eta 0:00:10\n",
      "   - -------------------------------------- 1.0/24.9 MB 2.5 MB/s eta 0:00:10\n",
      "   - -------------------------------------- 1.1/24.9 MB 2.5 MB/s eta 0:00:10\n",
      "   - -------------------------------------- 1.2/24.9 MB 2.5 MB/s eta 0:00:10\n",
      "   -- ------------------------------------- 1.3/24.9 MB 2.5 MB/s eta 0:00:10\n",
      "   -- ------------------------------------- 1.4/24.9 MB 2.5 MB/s eta 0:00:10\n",
      "   -- ------------------------------------- 1.5/24.9 MB 2.4 MB/s eta 0:00:10\n",
      "   -- ------------------------------------- 1.6/24.9 MB 2.5 MB/s eta 0:00:10\n",
      "   -- ------------------------------------- 1.8/24.9 MB 2.4 MB/s eta 0:00:10\n",
      "   --- ------------------------------------ 1.9/24.9 MB 2.4 MB/s eta 0:00:10\n",
      "   --- ------------------------------------ 1.9/24.9 MB 2.4 MB/s eta 0:00:10\n",
      "   --- ------------------------------------ 2.1/24.9 MB 2.4 MB/s eta 0:00:10\n",
      "   --- ------------------------------------ 2.2/24.9 MB 2.4 MB/s eta 0:00:10\n",
      "   --- ------------------------------------ 2.3/24.9 MB 2.4 MB/s eta 0:00:10\n",
      "   --- ------------------------------------ 2.4/24.9 MB 2.4 MB/s eta 0:00:10\n",
      "   ---- ----------------------------------- 2.6/24.9 MB 2.4 MB/s eta 0:00:10\n",
      "   ---- ----------------------------------- 2.6/24.9 MB 2.4 MB/s eta 0:00:10\n",
      "   ---- ----------------------------------- 2.7/24.9 MB 2.4 MB/s eta 0:00:10\n",
      "   ---- ----------------------------------- 2.9/24.9 MB 2.4 MB/s eta 0:00:09\n",
      "   ---- ----------------------------------- 3.0/24.9 MB 2.4 MB/s eta 0:00:10\n",
      "   ---- ----------------------------------- 3.1/24.9 MB 2.4 MB/s eta 0:00:10\n",
      "   ----- ---------------------------------- 3.2/24.9 MB 2.4 MB/s eta 0:00:09\n",
      "   ----- ---------------------------------- 3.3/24.9 MB 2.4 MB/s eta 0:00:10\n",
      "   ----- ---------------------------------- 3.4/24.9 MB 2.4 MB/s eta 0:00:10\n",
      "   ----- ---------------------------------- 3.5/24.9 MB 2.4 MB/s eta 0:00:09\n",
      "   ----- ---------------------------------- 3.6/24.9 MB 2.4 MB/s eta 0:00:09\n",
      "   ----- ---------------------------------- 3.7/24.9 MB 2.4 MB/s eta 0:00:09\n",
      "   ------ --------------------------------- 3.8/24.9 MB 2.4 MB/s eta 0:00:09\n",
      "   ------ --------------------------------- 3.9/24.9 MB 2.4 MB/s eta 0:00:09\n",
      "   ------ --------------------------------- 4.0/24.9 MB 2.4 MB/s eta 0:00:09\n",
      "   ------ --------------------------------- 4.1/24.9 MB 2.4 MB/s eta 0:00:09\n",
      "   ------ --------------------------------- 4.2/24.9 MB 2.4 MB/s eta 0:00:09\n",
      "   ------ --------------------------------- 4.3/24.9 MB 2.3 MB/s eta 0:00:09\n",
      "   ------- -------------------------------- 4.5/24.9 MB 2.4 MB/s eta 0:00:09\n",
      "   ------- -------------------------------- 4.6/24.9 MB 2.4 MB/s eta 0:00:09\n",
      "   ------- -------------------------------- 4.7/24.9 MB 2.4 MB/s eta 0:00:09\n",
      "   ------- -------------------------------- 4.8/24.9 MB 2.4 MB/s eta 0:00:09\n",
      "   ------- -------------------------------- 4.9/24.9 MB 2.4 MB/s eta 0:00:09\n",
      "   -------- ------------------------------- 5.0/24.9 MB 2.4 MB/s eta 0:00:09\n",
      "   -------- ------------------------------- 5.1/24.9 MB 2.4 MB/s eta 0:00:09\n",
      "   -------- ------------------------------- 5.2/24.9 MB 2.4 MB/s eta 0:00:09\n",
      "   -------- ------------------------------- 5.3/24.9 MB 2.4 MB/s eta 0:00:09\n",
      "   -------- ------------------------------- 5.4/24.9 MB 2.4 MB/s eta 0:00:09\n",
      "   -------- ------------------------------- 5.5/24.9 MB 2.4 MB/s eta 0:00:09\n",
      "   --------- ------------------------------ 5.6/24.9 MB 2.4 MB/s eta 0:00:09\n",
      "   --------- ------------------------------ 5.7/24.9 MB 2.4 MB/s eta 0:00:09\n",
      "   --------- ------------------------------ 5.8/24.9 MB 2.4 MB/s eta 0:00:09\n",
      "   --------- ------------------------------ 5.9/24.9 MB 2.4 MB/s eta 0:00:09\n",
      "   --------- ------------------------------ 6.0/24.9 MB 2.4 MB/s eta 0:00:09\n",
      "   --------- ------------------------------ 6.1/24.9 MB 2.4 MB/s eta 0:00:08\n",
      "   --------- ------------------------------ 6.1/24.9 MB 2.3 MB/s eta 0:00:09\n",
      "   ---------- ----------------------------- 6.3/24.9 MB 2.3 MB/s eta 0:00:08\n",
      "   ---------- ----------------------------- 6.3/24.9 MB 2.3 MB/s eta 0:00:08\n",
      "   ---------- ----------------------------- 6.3/24.9 MB 2.3 MB/s eta 0:00:09\n",
      "   ---------- ----------------------------- 6.3/24.9 MB 2.3 MB/s eta 0:00:09\n",
      "   ---------- ----------------------------- 6.4/24.9 MB 2.2 MB/s eta 0:00:09\n",
      "   ---------- ----------------------------- 6.5/24.9 MB 2.2 MB/s eta 0:00:09\n",
      "   ---------- ----------------------------- 6.5/24.9 MB 2.2 MB/s eta 0:00:09\n",
      "   ---------- ----------------------------- 6.7/24.9 MB 2.2 MB/s eta 0:00:09\n",
      "   ---------- ----------------------------- 6.8/24.9 MB 2.2 MB/s eta 0:00:09\n",
      "   ----------- ---------------------------- 6.9/24.9 MB 2.2 MB/s eta 0:00:09\n",
      "   ----------- ---------------------------- 7.0/24.9 MB 2.2 MB/s eta 0:00:09\n",
      "   ----------- ---------------------------- 7.1/24.9 MB 2.2 MB/s eta 0:00:08\n",
      "   ----------- ---------------------------- 7.2/24.9 MB 2.2 MB/s eta 0:00:08\n",
      "   ----------- ---------------------------- 7.3/24.9 MB 2.2 MB/s eta 0:00:08\n",
      "   ------------ --------------------------- 7.5/24.9 MB 2.2 MB/s eta 0:00:08\n",
      "   ------------ --------------------------- 7.5/24.9 MB 2.2 MB/s eta 0:00:08\n",
      "   ------------ --------------------------- 7.7/24.9 MB 2.2 MB/s eta 0:00:08\n",
      "   ------------ --------------------------- 7.8/24.9 MB 2.2 MB/s eta 0:00:08\n",
      "   ------------ --------------------------- 7.9/24.9 MB 2.2 MB/s eta 0:00:08\n",
      "   ------------ --------------------------- 8.0/24.9 MB 2.2 MB/s eta 0:00:08\n",
      "   ------------- -------------------------- 8.1/24.9 MB 2.2 MB/s eta 0:00:08\n",
      "   ------------- -------------------------- 8.2/24.9 MB 2.2 MB/s eta 0:00:08\n",
      "   ------------- -------------------------- 8.3/24.9 MB 2.2 MB/s eta 0:00:08\n",
      "   ------------- -------------------------- 8.4/24.9 MB 2.2 MB/s eta 0:00:08\n",
      "   ------------- -------------------------- 8.6/24.9 MB 2.3 MB/s eta 0:00:08\n",
      "   ------------- -------------------------- 8.7/24.9 MB 2.3 MB/s eta 0:00:08\n",
      "   -------------- ------------------------- 8.8/24.9 MB 2.3 MB/s eta 0:00:08\n",
      "   -------------- ------------------------- 8.9/24.9 MB 2.3 MB/s eta 0:00:08\n",
      "   -------------- ------------------------- 9.0/24.9 MB 2.3 MB/s eta 0:00:08\n",
      "   -------------- ------------------------- 9.1/24.9 MB 2.3 MB/s eta 0:00:07\n",
      "   -------------- ------------------------- 9.2/24.9 MB 2.3 MB/s eta 0:00:07\n",
      "   --------------- ------------------------ 9.3/24.9 MB 2.3 MB/s eta 0:00:07\n",
      "   --------------- ------------------------ 9.5/24.9 MB 2.3 MB/s eta 0:00:07\n",
      "   --------------- ------------------------ 9.6/24.9 MB 2.3 MB/s eta 0:00:07\n",
      "   --------------- ------------------------ 9.7/24.9 MB 2.3 MB/s eta 0:00:07\n",
      "   --------------- ------------------------ 9.8/24.9 MB 2.3 MB/s eta 0:00:07\n",
      "   --------------- ------------------------ 9.9/24.9 MB 2.3 MB/s eta 0:00:07\n",
      "   ---------------- ----------------------- 10.0/24.9 MB 2.3 MB/s eta 0:00:07\n",
      "   ---------------- ----------------------- 10.1/24.9 MB 2.3 MB/s eta 0:00:07\n",
      "   ---------------- ----------------------- 10.2/24.9 MB 2.3 MB/s eta 0:00:07\n",
      "   ---------------- ----------------------- 10.4/24.9 MB 2.3 MB/s eta 0:00:07\n",
      "   ---------------- ----------------------- 10.5/24.9 MB 2.3 MB/s eta 0:00:07\n",
      "   ---------------- ----------------------- 10.5/24.9 MB 2.3 MB/s eta 0:00:07\n",
      "   ----------------- ---------------------- 10.7/24.9 MB 2.3 MB/s eta 0:00:07\n",
      "   ----------------- ---------------------- 10.8/24.9 MB 2.3 MB/s eta 0:00:07\n",
      "   ----------------- ---------------------- 10.9/24.9 MB 2.3 MB/s eta 0:00:07\n",
      "   ----------------- ---------------------- 11.0/24.9 MB 2.3 MB/s eta 0:00:07\n",
      "   ----------------- ---------------------- 11.1/24.9 MB 2.3 MB/s eta 0:00:07\n",
      "   ------------------ --------------------- 11.3/24.9 MB 2.3 MB/s eta 0:00:06\n",
      "   ------------------ --------------------- 11.3/24.9 MB 2.3 MB/s eta 0:00:06\n",
      "   ------------------ --------------------- 11.5/24.9 MB 2.3 MB/s eta 0:00:06\n",
      "   ------------------ --------------------- 11.6/24.9 MB 2.3 MB/s eta 0:00:06\n",
      "   ------------------ --------------------- 11.7/24.9 MB 2.3 MB/s eta 0:00:06\n",
      "   ------------------ --------------------- 11.7/24.9 MB 2.3 MB/s eta 0:00:06\n",
      "   ------------------- -------------------- 11.9/24.9 MB 2.3 MB/s eta 0:00:06\n",
      "   ------------------- -------------------- 12.0/24.9 MB 2.3 MB/s eta 0:00:06\n",
      "   ------------------- -------------------- 12.1/24.9 MB 2.3 MB/s eta 0:00:06\n",
      "   ------------------- -------------------- 12.2/24.9 MB 2.3 MB/s eta 0:00:06\n",
      "   ------------------- -------------------- 12.3/24.9 MB 2.3 MB/s eta 0:00:06\n",
      "   -------------------- ------------------- 12.5/24.9 MB 2.3 MB/s eta 0:00:06\n",
      "   -------------------- ------------------- 12.6/24.9 MB 2.3 MB/s eta 0:00:06\n",
      "   -------------------- ------------------- 12.7/24.9 MB 2.3 MB/s eta 0:00:06\n",
      "   -------------------- ------------------- 12.8/24.9 MB 2.3 MB/s eta 0:00:06\n",
      "   -------------------- ------------------- 12.9/24.9 MB 2.3 MB/s eta 0:00:06\n",
      "   -------------------- ------------------- 13.0/24.9 MB 2.3 MB/s eta 0:00:06\n",
      "   --------------------- ------------------ 13.1/24.9 MB 2.3 MB/s eta 0:00:06\n",
      "   --------------------- ------------------ 13.2/24.9 MB 2.3 MB/s eta 0:00:06\n",
      "   --------------------- ------------------ 13.3/24.9 MB 2.3 MB/s eta 0:00:06\n",
      "   --------------------- ------------------ 13.5/24.9 MB 2.3 MB/s eta 0:00:05\n",
      "   --------------------- ------------------ 13.6/24.9 MB 2.3 MB/s eta 0:00:05\n",
      "   --------------------- ------------------ 13.7/24.9 MB 2.3 MB/s eta 0:00:05\n",
      "   ---------------------- ----------------- 13.8/24.9 MB 2.3 MB/s eta 0:00:05\n",
      "   ---------------------- ----------------- 13.9/24.9 MB 2.3 MB/s eta 0:00:05\n",
      "   ---------------------- ----------------- 14.0/24.9 MB 2.3 MB/s eta 0:00:05\n",
      "   ---------------------- ----------------- 14.1/24.9 MB 2.3 MB/s eta 0:00:05\n",
      "   ---------------------- ----------------- 14.2/24.9 MB 2.3 MB/s eta 0:00:05\n",
      "   ----------------------- ---------------- 14.4/24.9 MB 2.3 MB/s eta 0:00:05\n",
      "   ----------------------- ---------------- 14.5/24.9 MB 2.3 MB/s eta 0:00:05\n",
      "   ----------------------- ---------------- 14.6/24.9 MB 2.3 MB/s eta 0:00:05\n",
      "   ----------------------- ---------------- 14.7/24.9 MB 2.3 MB/s eta 0:00:05\n",
      "   ----------------------- ---------------- 14.8/24.9 MB 2.3 MB/s eta 0:00:05\n",
      "   ----------------------- ---------------- 14.9/24.9 MB 2.3 MB/s eta 0:00:05\n",
      "   ------------------------ --------------- 15.0/24.9 MB 2.3 MB/s eta 0:00:05\n",
      "   ------------------------ --------------- 15.1/24.9 MB 2.3 MB/s eta 0:00:05\n",
      "   ------------------------ --------------- 15.2/24.9 MB 2.3 MB/s eta 0:00:05\n",
      "   ------------------------ --------------- 15.4/24.9 MB 2.3 MB/s eta 0:00:05\n",
      "   ------------------------ --------------- 15.4/24.9 MB 2.3 MB/s eta 0:00:05\n",
      "   ------------------------- -------------- 15.6/24.9 MB 2.3 MB/s eta 0:00:05\n",
      "   ------------------------- -------------- 15.7/24.9 MB 2.3 MB/s eta 0:00:04\n",
      "   ------------------------- -------------- 15.8/24.9 MB 2.3 MB/s eta 0:00:04\n",
      "   ------------------------- -------------- 15.9/24.9 MB 2.3 MB/s eta 0:00:04\n",
      "   ------------------------- -------------- 16.0/24.9 MB 2.3 MB/s eta 0:00:04\n",
      "   ------------------------- -------------- 16.1/24.9 MB 2.3 MB/s eta 0:00:04\n",
      "   -------------------------- ------------- 16.2/24.9 MB 2.3 MB/s eta 0:00:04\n",
      "   -------------------------- ------------- 16.3/24.9 MB 2.4 MB/s eta 0:00:04\n",
      "   -------------------------- ------------- 16.4/24.9 MB 2.4 MB/s eta 0:00:04\n",
      "   -------------------------- ------------- 16.5/24.9 MB 2.4 MB/s eta 0:00:04\n",
      "   -------------------------- ------------- 16.7/24.9 MB 2.4 MB/s eta 0:00:04\n",
      "   -------------------------- ------------- 16.8/24.9 MB 2.5 MB/s eta 0:00:04\n",
      "   --------------------------- ------------ 16.9/24.9 MB 2.4 MB/s eta 0:00:04\n",
      "   --------------------------- ------------ 17.0/24.9 MB 2.4 MB/s eta 0:00:04\n",
      "   --------------------------- ------------ 17.1/24.9 MB 2.4 MB/s eta 0:00:04\n",
      "   --------------------------- ------------ 17.2/24.9 MB 2.4 MB/s eta 0:00:04\n",
      "   --------------------------- ------------ 17.3/24.9 MB 2.4 MB/s eta 0:00:04\n",
      "   ---------------------------- ----------- 17.4/24.9 MB 2.4 MB/s eta 0:00:04\n",
      "   ---------------------------- ----------- 17.5/24.9 MB 2.4 MB/s eta 0:00:03\n",
      "   ---------------------------- ----------- 17.7/24.9 MB 2.4 MB/s eta 0:00:03\n",
      "   ---------------------------- ----------- 17.7/24.9 MB 2.4 MB/s eta 0:00:03\n",
      "   ---------------------------- ----------- 17.9/24.9 MB 2.4 MB/s eta 0:00:03\n",
      "   ---------------------------- ----------- 18.0/24.9 MB 2.4 MB/s eta 0:00:03\n",
      "   ----------------------------- ---------- 18.1/24.9 MB 2.5 MB/s eta 0:00:03\n",
      "   ----------------------------- ---------- 18.2/24.9 MB 2.4 MB/s eta 0:00:03\n",
      "   ----------------------------- ---------- 18.3/24.9 MB 2.4 MB/s eta 0:00:03\n",
      "   ----------------------------- ---------- 18.4/24.9 MB 2.4 MB/s eta 0:00:03\n",
      "   ----------------------------- ---------- 18.5/24.9 MB 2.4 MB/s eta 0:00:03\n",
      "   ----------------------------- ---------- 18.6/24.9 MB 2.4 MB/s eta 0:00:03\n",
      "   ------------------------------ --------- 18.8/24.9 MB 2.4 MB/s eta 0:00:03\n",
      "   ------------------------------ --------- 18.9/24.9 MB 2.4 MB/s eta 0:00:03\n",
      "   ------------------------------ --------- 19.0/24.9 MB 2.4 MB/s eta 0:00:03\n",
      "   ------------------------------ --------- 19.1/24.9 MB 2.4 MB/s eta 0:00:03\n",
      "   ------------------------------ --------- 19.2/24.9 MB 2.4 MB/s eta 0:00:03\n",
      "   ------------------------------- -------- 19.3/24.9 MB 2.4 MB/s eta 0:00:03\n",
      "   ------------------------------- -------- 19.4/24.9 MB 2.4 MB/s eta 0:00:03\n",
      "   ------------------------------- -------- 19.5/24.9 MB 2.4 MB/s eta 0:00:03\n",
      "   ------------------------------- -------- 19.7/24.9 MB 2.4 MB/s eta 0:00:03\n",
      "   ------------------------------- -------- 19.8/24.9 MB 2.4 MB/s eta 0:00:03\n",
      "   ------------------------------- -------- 19.9/24.9 MB 2.4 MB/s eta 0:00:03\n",
      "   -------------------------------- ------- 20.0/24.9 MB 2.4 MB/s eta 0:00:03\n",
      "   -------------------------------- ------- 20.1/24.9 MB 2.4 MB/s eta 0:00:02\n",
      "   -------------------------------- ------- 20.2/24.9 MB 2.4 MB/s eta 0:00:02\n",
      "   -------------------------------- ------- 20.3/24.9 MB 2.4 MB/s eta 0:00:02\n",
      "   -------------------------------- ------- 20.4/24.9 MB 2.5 MB/s eta 0:00:02\n",
      "   --------------------------------- ------ 20.5/24.9 MB 2.4 MB/s eta 0:00:02\n",
      "   --------------------------------- ------ 20.7/24.9 MB 2.4 MB/s eta 0:00:02\n",
      "   --------------------------------- ------ 20.8/24.9 MB 2.4 MB/s eta 0:00:02\n",
      "   --------------------------------- ------ 20.9/24.9 MB 2.4 MB/s eta 0:00:02\n",
      "   --------------------------------- ------ 21.0/24.9 MB 2.4 MB/s eta 0:00:02\n",
      "   --------------------------------- ------ 21.1/24.9 MB 2.4 MB/s eta 0:00:02\n",
      "   ---------------------------------- ----- 21.2/24.9 MB 2.4 MB/s eta 0:00:02\n",
      "   ---------------------------------- ----- 21.3/24.9 MB 2.4 MB/s eta 0:00:02\n",
      "   ---------------------------------- ----- 21.4/24.9 MB 2.4 MB/s eta 0:00:02\n",
      "   ---------------------------------- ----- 21.6/24.9 MB 2.4 MB/s eta 0:00:02\n",
      "   ---------------------------------- ----- 21.7/24.9 MB 2.4 MB/s eta 0:00:02\n",
      "   ----------------------------------- ---- 21.8/24.9 MB 2.4 MB/s eta 0:00:02\n",
      "   ----------------------------------- ---- 21.9/24.9 MB 2.4 MB/s eta 0:00:02\n",
      "   ----------------------------------- ---- 22.0/24.9 MB 2.4 MB/s eta 0:00:02\n",
      "   ----------------------------------- ---- 22.1/24.9 MB 2.4 MB/s eta 0:00:02\n",
      "   ----------------------------------- ---- 22.2/24.9 MB 2.4 MB/s eta 0:00:02\n",
      "   ----------------------------------- ---- 22.3/24.9 MB 2.4 MB/s eta 0:00:02\n",
      "   ------------------------------------ --- 22.5/24.9 MB 2.4 MB/s eta 0:00:01\n",
      "   ------------------------------------ --- 22.5/24.9 MB 2.4 MB/s eta 0:00:01\n",
      "   ------------------------------------ --- 22.7/24.9 MB 2.4 MB/s eta 0:00:01\n",
      "   ------------------------------------ --- 22.8/24.9 MB 2.5 MB/s eta 0:00:01\n",
      "   ------------------------------------ --- 22.9/24.9 MB 2.4 MB/s eta 0:00:01\n",
      "   ------------------------------------- -- 23.0/24.9 MB 2.4 MB/s eta 0:00:01\n",
      "   ------------------------------------- -- 23.1/24.9 MB 2.4 MB/s eta 0:00:01\n",
      "   ------------------------------------- -- 23.2/24.9 MB 2.4 MB/s eta 0:00:01\n",
      "   ------------------------------------- -- 23.3/24.9 MB 2.4 MB/s eta 0:00:01\n",
      "   ------------------------------------- -- 23.4/24.9 MB 2.4 MB/s eta 0:00:01\n",
      "   ------------------------------------- -- 23.5/24.9 MB 2.4 MB/s eta 0:00:01\n",
      "   -------------------------------------- - 23.7/24.9 MB 2.4 MB/s eta 0:00:01\n",
      "   -------------------------------------- - 23.8/24.9 MB 2.4 MB/s eta 0:00:01\n",
      "   -------------------------------------- - 23.8/24.9 MB 2.4 MB/s eta 0:00:01\n",
      "   -------------------------------------- - 24.0/24.9 MB 2.4 MB/s eta 0:00:01\n",
      "   -------------------------------------- - 24.1/24.9 MB 2.4 MB/s eta 0:00:01\n",
      "   -------------------------------------- - 24.1/24.9 MB 2.4 MB/s eta 0:00:01\n",
      "   ---------------------------------------  24.3/24.9 MB 2.4 MB/s eta 0:00:01\n",
      "   ---------------------------------------  24.3/24.9 MB 2.4 MB/s eta 0:00:01\n",
      "   ---------------------------------------  24.3/24.9 MB 2.4 MB/s eta 0:00:01\n",
      "   ---------------------------------------  24.4/24.9 MB 2.4 MB/s eta 0:00:01\n",
      "   ---------------------------------------  24.4/24.9 MB 2.3 MB/s eta 0:00:01\n",
      "   ---------------------------------------  24.5/24.9 MB 2.4 MB/s eta 0:00:01\n",
      "   ---------------------------------------  24.7/24.9 MB 2.3 MB/s eta 0:00:01\n",
      "   ---------------------------------------  24.8/24.9 MB 2.4 MB/s eta 0:00:01\n",
      "   ---------------------------------------  24.9/24.9 MB 2.3 MB/s eta 0:00:01\n",
      "   ---------------------------------------- 24.9/24.9 MB 2.3 MB/s eta 0:00:00\n",
      "Downloading multiprocess-0.70.16-py39-none-any.whl (133 kB)\n",
      "   ---------------------------------------- 0.0/133.4 kB ? eta -:--:--\n",
      "   ---------------------------------------- 133.4/133.4 kB 4.0 MB/s eta 0:00:00\n",
      "Downloading dill-0.3.8-py3-none-any.whl (116 kB)\n",
      "   ---------------------------------------- 0.0/116.3 kB ? eta -:--:--\n",
      "   ---------------------------------------- 116.3/116.3 kB 2.3 MB/s eta 0:00:00\n",
      "Downloading pyarrow_hotfix-0.6-py3-none-any.whl (7.9 kB)\n",
      "Downloading xxhash-3.4.1-cp39-cp39-win_amd64.whl (29 kB)\n",
      "Downloading aiosignal-1.3.1-py3-none-any.whl (7.6 kB)\n",
      "Downloading async_timeout-4.0.3-py3-none-any.whl (5.7 kB)\n",
      "Downloading frozenlist-1.4.1-cp39-cp39-win_amd64.whl (50 kB)\n",
      "   ---------------------------------------- 0.0/50.7 kB ? eta -:--:--\n",
      "   ---------------------------------------- 50.7/50.7 kB 2.5 MB/s eta 0:00:00\n",
      "Downloading multidict-6.0.5-cp39-cp39-win_amd64.whl (28 kB)\n",
      "Downloading yarl-1.9.4-cp39-cp39-win_amd64.whl (76 kB)\n",
      "   ---------------------------------------- 0.0/76.9 kB ? eta -:--:--\n",
      "   ---------------------------------------- 76.9/76.9 kB 4.4 MB/s eta 0:00:00\n",
      "Installing collected packages: xxhash, pyarrow-hotfix, pyarrow, multidict, frozenlist, dill, async-timeout, yarl, multiprocess, aiosignal, aiohttp, datasets\n",
      "  Attempting uninstall: dill\n",
      "    Found existing installation: dill 0.3.7\n",
      "    Uninstalling dill-0.3.7:\n",
      "      Successfully uninstalled dill-0.3.7\n",
      "Successfully installed aiohttp-3.9.3 aiosignal-1.3.1 async-timeout-4.0.3 datasets-2.18.0 dill-0.3.8 frozenlist-1.4.1 multidict-6.0.5 multiprocess-0.70.16 pyarrow-15.0.1 pyarrow-hotfix-0.6 xxhash-3.4.1 yarl-1.9.4\n",
      "Note: you may need to restart the kernel to use updated packages.\n"
     ]
    }
   ],
   "source": [
    "%pip install datasets"
   ]
  },
  {
   "cell_type": "code",
   "execution_count": 7,
   "metadata": {},
   "outputs": [
    {
     "data": {
      "application/vnd.jupyter.widget-view+json": {
       "model_id": "c8cd78d9f1704ed980c60b74bb23faa5",
       "version_major": 2,
       "version_minor": 0
      },
      "text/plain": [
       "Downloading metadata:   0%|          | 0.00/632 [00:00<?, ?B/s]"
      ]
     },
     "metadata": {},
     "output_type": "display_data"
    },
    {
     "name": "stderr",
     "output_type": "stream",
     "text": [
      "Downloading data: 100%|██████████| 14.6M/14.6M [00:07<00:00, 1.99MB/s]\n"
     ]
    },
    {
     "data": {
      "application/vnd.jupyter.widget-view+json": {
       "model_id": "0e980b8ea246420a99d385e662b3100b",
       "version_major": 2,
       "version_minor": 0
      },
      "text/plain": [
       "Generating train split:   0%|          | 0/359 [00:00<?, ? examples/s]"
      ]
     },
     "metadata": {},
     "output_type": "display_data"
    }
   ],
   "source": [
    "from datasets import load_dataset\n",
    "\n",
    "dataset = load_dataset(\"AlekseyKorshuk/mystery-crime-books\")"
   ]
  },
  {
   "cell_type": "code",
   "execution_count": 15,
   "metadata": {},
   "outputs": [
    {
     "ename": "ImportError",
     "evalue": "cannot import name 'tokenise_data' from 'utils' (c:\\Users\\Dharshan\\.conda\\envs\\tf\\lib\\site-packages\\utils\\__init__.py)",
     "output_type": "error",
     "traceback": [
      "\u001b[1;31m---------------------------------------------------------------------------\u001b[0m",
      "\u001b[1;31mImportError\u001b[0m                               Traceback (most recent call last)",
      "Cell \u001b[1;32mIn[15], line 3\u001b[0m\n\u001b[0;32m      1\u001b[0m \u001b[38;5;28;01mimport\u001b[39;00m \u001b[38;5;21;01mtransformers\u001b[39;00m\n\u001b[0;32m      2\u001b[0m \u001b[38;5;28;01mfrom\u001b[39;00m \u001b[38;5;21;01mtransformers\u001b[39;00m \u001b[38;5;28;01mimport\u001b[39;00m BloomTokenizerFast, BloomForCausalLM, TrainingArguments\n\u001b[1;32m----> 3\u001b[0m \u001b[38;5;28;01mfrom\u001b[39;00m \u001b[38;5;21;01mutils\u001b[39;00m \u001b[38;5;28;01mimport\u001b[39;00m tokenise_data, data_collator\n\u001b[0;32m      4\u001b[0m \u001b[38;5;28;01mfrom\u001b[39;00m \u001b[38;5;21;01mutils\u001b[39;00m\u001b[38;5;21;01m.\u001b[39;00m\u001b[38;5;21;01mmodified_trainer\u001b[39;00m \u001b[38;5;28;01mimport\u001b[39;00m ModifiedTrainer\n",
      "\u001b[1;31mImportError\u001b[0m: cannot import name 'tokenise_data' from 'utils' (c:\\Users\\Dharshan\\.conda\\envs\\tf\\lib\\site-packages\\utils\\__init__.py)"
     ]
    }
   ],
   "source": [
    "import transformers\n",
    "from transformers import BloomTokenizerFast, BloomForCausalLM, TrainingArguments\n",
    "from utils import tokenise_data, data_collator\n",
    "from utils.modified_trainer import ModifiedTrainer\n",
    "from utils import tokenise_data\n"
   ]
  },
  {
   "cell_type": "code",
   "execution_count": 10,
   "metadata": {},
   "outputs": [],
   "source": [
    "model_name = \"bloom-1b1\"\n",
    "\n",
    "tokeniser = BloomTokenizerFast.from_pretrained(f\"bigscience/{model_name}\", add_prefix_space=True)"
   ]
  },
  {
   "cell_type": "code",
   "execution_count": null,
   "metadata": {},
   "outputs": [],
   "source": [
    "input_ids = tokenise_data(dataset, tokeniser)\n"
   ]
  }
 ],
 "metadata": {
  "kernelspec": {
   "display_name": "tf",
   "language": "python",
   "name": "python3"
  },
  "language_info": {
   "codemirror_mode": {
    "name": "ipython",
    "version": 3
   },
   "file_extension": ".py",
   "mimetype": "text/x-python",
   "name": "python",
   "nbconvert_exporter": "python",
   "pygments_lexer": "ipython3",
   "version": "3.9.18"
  }
 },
 "nbformat": 4,
 "nbformat_minor": 2
}
